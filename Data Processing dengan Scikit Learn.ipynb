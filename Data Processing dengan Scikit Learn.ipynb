{
 "cells": [
  {
   "cell_type": "markdown",
   "metadata": {},
   "source": [
    "## SKLearn 04 | Data Preprocessing dengan Scikit Learn | Belajar Machine Learning Dasar"
   ]
  },
  {
   "cell_type": "markdown",
   "metadata": {},
   "source": [
    "## 04 Data Preprocessing dengan Scikit Learn\n",
    "\n",
    "Materi Pembelajaran dikutip dari sumber: https://www.youtube.com/watch?v=smNnhEd26Ek"
   ]
  },
  {
   "cell_type": "markdown",
   "metadata": {},
   "source": [
    "## Sample Data"
   ]
  },
  {
   "cell_type": "markdown",
   "metadata": {},
   "source": [
    "+ Dataset digenerate dalam np.array yang merupakan dataset features\n",
    "+ Terdapat 4 instance / jumlah baris\n",
    "+ Terbagi dalam 3 features\n",
    "+ Data features ditampung dalam variable sample_data"
   ]
  },
  {
   "cell_type": "code",
   "execution_count": 1,
   "metadata": {},
   "outputs": [
    {
     "data": {
      "text/plain": [
       "array([[ 2.1, -1.9,  5.5],\n",
       "       [-1.5,  2.4,  3.5],\n",
       "       [ 0.5, -7.9,  5.6],\n",
       "       [ 5.9,  2.3, -5.8]])"
      ]
     },
     "execution_count": 1,
     "metadata": {},
     "output_type": "execute_result"
    }
   ],
   "source": [
    "import numpy as np\n",
    "# untuk import numpy\n",
    "\n",
    "from sklearn import preprocessing \n",
    "# untuk import modul processing\n",
    "\n",
    "sample_data = np.array([[2.1, -1.9, 5.5],\n",
    "                        [-1.5, 2.4, 3.5],\n",
    "                        [0.5, -7.9, 5.6],\n",
    "                        [5.9, 2.3, -5.8]])\n",
    "# dataset dummy yang digunakan untuk pembelajaran kali ini\n",
    "\n",
    "sample_data"
   ]
  },
  {
   "cell_type": "markdown",
   "metadata": {},
   "source": [
    "Untuk menampilkan dimensi dataset"
   ]
  },
  {
   "cell_type": "code",
   "execution_count": 2,
   "metadata": {},
   "outputs": [
    {
     "data": {
      "text/plain": [
       "(4, 3)"
      ]
     },
     "execution_count": 2,
     "metadata": {},
     "output_type": "execute_result"
    }
   ],
   "source": [
    "sample_data.shape"
   ]
  },
  {
   "cell_type": "markdown",
   "metadata": {},
   "source": [
    "Shape(4, 3) yaitu 4 merupakan instance / baris dan 3 merupakan features"
   ]
  },
  {
   "cell_type": "markdown",
   "metadata": {},
   "source": [
    "## Binarisation\n",
    "\n",
    "Tujuan utama teknik binarisation untuk menghasilkan suatu data yang terdiri dari 2 nilai numerik saja yaitu 0 dan 1"
   ]
  },
  {
   "cell_type": "code",
   "execution_count": 3,
   "metadata": {},
   "outputs": [
    {
     "data": {
      "text/plain": [
       "array([[ 2.1, -1.9,  5.5],\n",
       "       [-1.5,  2.4,  3.5],\n",
       "       [ 0.5, -7.9,  5.6],\n",
       "       [ 5.9,  2.3, -5.8]])"
      ]
     },
     "execution_count": 3,
     "metadata": {},
     "output_type": "execute_result"
    }
   ],
   "source": [
    "sample_data\n",
    "# untuk menampilkan isinya"
   ]
  },
  {
   "cell_type": "markdown",
   "metadata": {},
   "source": [
    "+ Untuk mengkonversi setiap nilai features menjadi nilai 0 atau 1 (> 0.5 menjadi 1, < 0.5 menjadi 0) menggunakan Binarizer.\n",
    "+ Membentuk terlebih dahulu objek binarizer dengan memanggil processing. Binarizer (dengan parameter threshold).\n",
    "+ Lalu melakukan proses transformasi terhadap sample data"
   ]
  },
  {
   "cell_type": "code",
   "execution_count": 4,
   "metadata": {},
   "outputs": [
    {
     "data": {
      "text/plain": [
       "array([[1., 0., 1.],\n",
       "       [0., 1., 1.],\n",
       "       [0., 0., 1.],\n",
       "       [1., 1., 0.]])"
      ]
     },
     "execution_count": 4,
     "metadata": {},
     "output_type": "execute_result"
    }
   ],
   "source": [
    "preprocessor = preprocessing.Binarizer(threshold=0.5)\n",
    "# untuk membuat objek binarisation\n",
    "\n",
    "binarised_data = preprocessor.transform(sample_data)\n",
    "# untuk transformasi sample dataset yang dimiliki\n",
    "\n",
    "binarised_data\n",
    "# untuk menampilkan isinya"
   ]
  },
  {
   "cell_type": "markdown",
   "metadata": {},
   "source": [
    "+ Threshold = 0.5\n",
    "+ Terlihat 5.5 menjadi 1 karena sample > 0.5\n",
    "+ Terlihat -7.9 menjadi 0 karena sample < 0.5\n",
    "+ Terlihat 0.5 menjadi 0 karena sample == 0.5"
   ]
  },
  {
   "cell_type": "markdown",
   "metadata": {},
   "source": [
    "## Scaling\n",
    "Tujuan utama teknik scaling untuk menghasilkan data numerik yang berada dalam rentang skala tertentu\n",
    "   + Terdapat -7.9 sebagai nilai terkecil dan 5.9 sebagai nilai terbesar"
   ]
  },
  {
   "cell_type": "code",
   "execution_count": 5,
   "metadata": {},
   "outputs": [
    {
     "data": {
      "text/plain": [
       "array([[ 2.1, -1.9,  5.5],\n",
       "       [-1.5,  2.4,  3.5],\n",
       "       [ 0.5, -7.9,  5.6],\n",
       "       [ 5.9,  2.3, -5.8]])"
      ]
     },
     "execution_count": 5,
     "metadata": {},
     "output_type": "execute_result"
    }
   ],
   "source": [
    "sample_data"
   ]
  },
  {
   "cell_type": "markdown",
   "metadata": {},
   "source": [
    "+ Menkonversi sekumpulan nilai numerik ke dalam rentang nilai dari 0 sampai 1 dengan menggunakan scaling\n",
    "+ Menggunakan scaling sederhana yaitu MinMaxScaler"
   ]
  },
  {
   "cell_type": "code",
   "execution_count": 6,
   "metadata": {},
   "outputs": [
    {
     "data": {
      "text/plain": [
       "array([[0.48648649, 0.58252427, 0.99122807],\n",
       "       [0.        , 1.        , 0.81578947],\n",
       "       [0.27027027, 0.        , 1.        ],\n",
       "       [1.        , 0.99029126, 0.        ]])"
      ]
     },
     "execution_count": 6,
     "metadata": {},
     "output_type": "execute_result"
    }
   ],
   "source": [
    "preprocessor = preprocessing.MinMaxScaler(feature_range=(0, 1))\n",
    "# untuk memanggil MinMaxScaler untuk membuat objek scaler\n",
    "\n",
    "preprocessor.fit(sample_data)\n",
    "# untuk melakukan fit objek scaler dengan dataset\n",
    "\n",
    "scaled_data = preprocessor.transform(sample_data)\n",
    "# untuk melakukan transformasi data\n",
    "\n",
    "scaled_data\n",
    "# untuk menghasilkan hasil datanya"
   ]
  },
  {
   "cell_type": "markdown",
   "metadata": {},
   "source": [
    "+ 0 = nilai terkecil dalam skala baru\n",
    "+ 1 = nilai terbesar dalam skala baru\n",
    "+ Setelah di transform, nilai terkecil yaitu 0 dan nilai terbesar yaitu 1\n",
    "\n",
    "Proses fitting dan transform dapat disatukan dengan cara memanfaatkan method fit_transform."
   ]
  },
  {
   "cell_type": "code",
   "execution_count": 7,
   "metadata": {},
   "outputs": [
    {
     "data": {
      "text/plain": [
       "array([[0.48648649, 0.58252427, 0.99122807],\n",
       "       [0.        , 1.        , 0.81578947],\n",
       "       [0.27027027, 0.        , 1.        ],\n",
       "       [1.        , 0.99029126, 0.        ]])"
      ]
     },
     "execution_count": 7,
     "metadata": {},
     "output_type": "execute_result"
    }
   ],
   "source": [
    "scaled_data = preprocessor.fit_transform(sample_data)\n",
    "scaled_data"
   ]
  },
  {
   "cell_type": "markdown",
   "metadata": {},
   "source": [
    "## L1 Normalisation: Least Absolute Deviations\n",
    "\n",
    "__Referensi:__ https://en.wikipedia.org/wiki/Least_absolute_deviations\n",
    "\n",
    "Tujuan utama dari teknik ini untuk melakukan normalisasi terhadap data numerik yang dimiliki.\n",
    "\n",
    "L1 Normalisation menerapkan Least Absolute Deviations"
   ]
  },
  {
   "cell_type": "code",
   "execution_count": 8,
   "metadata": {},
   "outputs": [
    {
     "data": {
      "text/plain": [
       "array([[ 2.1, -1.9,  5.5],\n",
       "       [-1.5,  2.4,  3.5],\n",
       "       [ 0.5, -7.9,  5.6],\n",
       "       [ 5.9,  2.3, -5.8]])"
      ]
     },
     "execution_count": 8,
     "metadata": {},
     "output_type": "execute_result"
    }
   ],
   "source": [
    "sample_data"
   ]
  },
  {
   "cell_type": "markdown",
   "metadata": {},
   "source": [
    "+ preprocessing.normalized membutuhkan 2 parameter, yaitu sample data dan norm\n",
    "+ norm diberi nilai String 'l1' yang akan berasosiasi dengan normalisasi yang menerapkan Least Absolute Deviations"
   ]
  },
  {
   "cell_type": "code",
   "execution_count": 9,
   "metadata": {},
   "outputs": [
    {
     "data": {
      "text/plain": [
       "array([[ 0.22105263, -0.2       ,  0.57894737],\n",
       "       [-0.2027027 ,  0.32432432,  0.47297297],\n",
       "       [ 0.03571429, -0.56428571,  0.4       ],\n",
       "       [ 0.42142857,  0.16428571, -0.41428571]])"
      ]
     },
     "execution_count": 9,
     "metadata": {},
     "output_type": "execute_result"
    }
   ],
   "source": [
    "l1_normalised_data = preprocessing.normalize(sample_data, norm='l1')\n",
    "# untuk melakukan normalisasi menggunakan L1\n",
    "\n",
    "l1_normalised_data\n",
    "# untuk menampilkan hasilnya"
   ]
  },
  {
   "cell_type": "markdown",
   "metadata": {},
   "source": [
    "## L2 Normalisation: Least Squares\n",
    "\n",
    "__Referensi:__ https://en.wikipedia.org/wiki/Least_squares\n",
    "\n",
    "L2 Normalisation menerapkan Least Squares"
   ]
  },
  {
   "cell_type": "code",
   "execution_count": 10,
   "metadata": {},
   "outputs": [
    {
     "data": {
      "text/plain": [
       "array([[ 2.1, -1.9,  5.5],\n",
       "       [-1.5,  2.4,  3.5],\n",
       "       [ 0.5, -7.9,  5.6],\n",
       "       [ 5.9,  2.3, -5.8]])"
      ]
     },
     "execution_count": 10,
     "metadata": {},
     "output_type": "execute_result"
    }
   ],
   "source": [
    "sample_data"
   ]
  },
  {
   "cell_type": "markdown",
   "metadata": {},
   "source": [
    "+ preprocessing.normalized membutuhkan 2 parameter, yaitu sample data dan norm\n",
    "+ norm diberi nilai String 'l2' yang akan berasosiasi dengan normalisasi yang menerapkan Least Squares"
   ]
  },
  {
   "cell_type": "code",
   "execution_count": 11,
   "metadata": {},
   "outputs": [
    {
     "data": {
      "text/plain": [
       "array([[ 0.33946114, -0.30713151,  0.88906489],\n",
       "       [-0.33325106,  0.53320169,  0.7775858 ],\n",
       "       [ 0.05156558, -0.81473612,  0.57753446],\n",
       "       [ 0.68706914,  0.26784051, -0.6754239 ]])"
      ]
     },
     "execution_count": 11,
     "metadata": {},
     "output_type": "execute_result"
    }
   ],
   "source": [
    "l2_normalised_data = preprocessing.normalize(sample_data, norm='l2')\n",
    "# untuk melakukan normalisasi menggunakan L2\n",
    "\n",
    "l2_normalised_data\n",
    "# untuk menampilkan hasilnya"
   ]
  }
 ],
 "metadata": {
  "kernelspec": {
   "display_name": "Python 3",
   "language": "python",
   "name": "python3"
  },
  "language_info": {
   "codemirror_mode": {
    "name": "ipython",
    "version": 3
   },
   "file_extension": ".py",
   "mimetype": "text/x-python",
   "name": "python",
   "nbconvert_exporter": "python",
   "pygments_lexer": "ipython3",
   "version": "3.8.5"
  }
 },
 "nbformat": 4,
 "nbformat_minor": 4
}
