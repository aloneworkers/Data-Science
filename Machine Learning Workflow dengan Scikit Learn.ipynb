{
 "cells": [
  {
   "cell_type": "markdown",
   "metadata": {},
   "source": [
    "## SKLearn 03 | Machine Learning Workflow dengan Scikit Learn | Belajar Machine Learning Dasar"
   ]
  },
  {
   "cell_type": "markdown",
   "metadata": {},
   "source": [
    "# 03 Machine Learning Workflow dengan Scikit Learn\n",
    "\n",
    "Materi Pembelajaran dikutip dari sumber: https://www.youtube.com/watch?v=tiREcHrtDLo"
   ]
  },
  {
   "cell_type": "markdown",
   "metadata": {},
   "source": [
    "## Persiapan Dataset"
   ]
  },
  {
   "cell_type": "markdown",
   "metadata": {},
   "source": [
    "### Load Sample Dataset: Iris Dataset"
   ]
  },
  {
   "cell_type": "code",
   "execution_count": 1,
   "metadata": {},
   "outputs": [],
   "source": [
    "from sklearn.datasets import load_iris\n",
    "\n",
    "iris = load_iris()\n",
    "# untuk memanggil dataset yang ditampung dalam variable bernama iris\n",
    "\n",
    "X = iris.data\n",
    "y = iris.target"
   ]
  },
  {
   "cell_type": "markdown",
   "metadata": {},
   "source": [
    "### Splitting Dataset: Training & Testing Set"
   ]
  },
  {
   "cell_type": "code",
   "execution_count": 2,
   "metadata": {},
   "outputs": [],
   "source": [
    "from sklearn.model_selection import train_test_split\n",
    "# untuk melakukan splitting untuk training dan testing set pada dataset iris\n",
    "\n",
    "X_train, X_test, y_train, y_test = train_test_split(X,\n",
    "                                                    y,\n",
    "                                                    test_size=0.4,\n",
    "                                                    random_state=1)\n",
    "\n",
    "# parameter pertama adalah sekumpulan features\n",
    "# parameter kedua adalah sekumpulan nilai targetnya\n",
    "# parameter ketiga adalah ukuran untuk testing setnya, dan untuk kasus kali ini adalah 0.4 artinya testing set akan memiliki 40% dari keseluruhan total dataset\n",
    "# parameter keempat untuk melakukan random set agar tetap konsisten"
   ]
  },
  {
   "cell_type": "markdown",
   "metadata": {},
   "source": [
    "## Training Model\n",
    "\n",
    "   + Pada Scikit Learn, model machine learning dibentuk dari class yang dikenal dengan istilah __estimator.__\n",
    "   + Setiap estimator akan mengimplementasikan dua method utama, yaitu fit() dan predict().\n",
    "   + Method fit() digunakan untuk melakukan training model.\n",
    "   + Method predict() digunakan untuk melakukan estimasi/prediksi dengan \n",
    "     memanfaatkan trained model."
   ]
  },
  {
   "cell_type": "code",
   "execution_count": 3,
   "metadata": {},
   "outputs": [
    {
     "data": {
      "text/plain": [
       "KNeighborsClassifier(n_neighbors=3)"
      ]
     },
     "execution_count": 3,
     "metadata": {},
     "output_type": "execute_result"
    }
   ],
   "source": [
    "from sklearn.neighbors import KNeighborsClassifier\n",
    "# untuk import model / estimator class\n",
    "\n",
    "model = KNeighborsClassifier(n_neighbors=3)\n",
    "# untuk membentuk objek dari KNeighborsClassifier\n",
    "\n",
    "model.fit(X_train, y_train)"
   ]
  },
  {
   "cell_type": "markdown",
   "metadata": {},
   "source": [
    "Membentuk Objek dari KNeighborsClassifier\n",
    "\n",
    "+ Untuk membentuk objek dari KNeighborsClassifier membutuhkan 1 buah parameter yaitu n_neighbors yang berasal dari    KNeighborsClassifier\n",
    "+ Dan parameternya harus ditentukan jumlah neighborsnya, untuk kasus kali ini jumlahnya adalah 3\n",
    "+ Objek yang telah terbentuk akan ditampung dalam variable model\n",
    "\n",
    "Objek model yang telah dibentuk akan ditraining menggunakan method fit. Proses training akan memanfaatkan training set, karena itu dipanggil X_train dan y_train\n",
    "\n",
    "+ X_train = berisi sekumpulan nilai features untuk training set\n",
    "+ y_train = berisi sekumpulan nilai target untuk training set\n",
    "\n",
    "Setelah model dijalankan maka dikenal sebagai train model / model yang telah di training"
   ]
  },
  {
   "cell_type": "markdown",
   "metadata": {},
   "source": [
    "## Evaluasi Model"
   ]
  },
  {
   "cell_type": "code",
   "execution_count": 4,
   "metadata": {},
   "outputs": [
    {
     "name": "stdout",
     "output_type": "stream",
     "text": [
      "Accuracy: 0.9833333333333333\n"
     ]
    }
   ],
   "source": [
    "from sklearn.metrics import accuracy_score\n",
    "# metrics yang digunakan kali ini adalah accuracy\n",
    "# untuk melakukan evaluasi, maka perlu mengimport accuracy_score\n",
    "\n",
    "y_pred = model.predict(X_test)\n",
    "# untuk melakukan prediksi terhadap nilai features yang ada didalam testing dataset\n",
    "# hasil dari prediksi yang dilakukan ditampung dalam variable y_pred\n",
    "\n",
    "acc = accuracy_score(y_test, y_pred)\n",
    "print(f'Accuracy: {acc}')"
   ]
  },
  {
   "cell_type": "markdown",
   "metadata": {},
   "source": [
    "+ Accuracy_score untuk melakukan evaluasi\n",
    "+ Hasil nilai dari accuracy akan ditampung dalam variable acc\n",
    "+ Dalam kasus ini accuracy yang didapatkan adalah 0.9833333333333333 artinya nilai accuracy model ini ialah 98% (sangat baik)\n",
    "+ Proses evaluasi akan membandingkan nilai target (y_test) dengan nilai prediksi (y_pred) dengan menggunakan accuracy_score"
   ]
  },
  {
   "cell_type": "markdown",
   "metadata": {},
   "source": [
    "## Pemanfaatan Trained Model"
   ]
  },
  {
   "cell_type": "markdown",
   "metadata": {},
   "source": [
    "Trained model dinilai cukup baik berdasarkan hasil evaluasi, maka model yang telah di training dapat digunakan untuk memprediksi data baru."
   ]
  },
  {
   "cell_type": "code",
   "execution_count": 5,
   "metadata": {},
   "outputs": [
    {
     "data": {
      "text/plain": [
       "array([1, 2])"
      ]
     },
     "execution_count": 5,
     "metadata": {},
     "output_type": "execute_result"
    }
   ],
   "source": [
    "data_baru = [[5, 5, 3, 2],\n",
    "             [2, 4, 3, 5]]\n",
    "# untuk membentuk dataset baru\n",
    "\n",
    "preds = model.predict(data_baru)\n",
    "preds \n",
    "#  untuk memanggil / menampilkan hasil"
   ]
  },
  {
   "cell_type": "markdown",
   "metadata": {},
   "source": [
    "+ Data baru hanya memiliki sekumpulan nilai features tetapi tidak memiliki nilai target. Karena itu dimanfaatkan trained model sebelumnya untuk melakukan prediksi nilai target dari sekumpulan nilai features yang ada.\n",
    "+ Dataset terdiri dari 2 row / baris, dimana setiap instance atau baris terbagi dalam 4 nilai features.\n",
    "+ Akan menghasilkan array([1, 2]) dimana baris pertama memiliki prediksi nilai target 1 dan baris kedua memiliki prediksi nilai target 2."
   ]
  },
  {
   "cell_type": "code",
   "execution_count": 6,
   "metadata": {},
   "outputs": [
    {
     "name": "stdout",
     "output_type": "stream",
     "text": [
      "Hasil Prediksi: ['versicolor', 'virginica']\n"
     ]
    }
   ],
   "source": [
    "pred_species = [iris.target_names[p] for p in preds]\n",
    "print(f'Hasil Prediksi: {pred_species}')"
   ]
  },
  {
   "cell_type": "markdown",
   "metadata": {},
   "source": [
    "+ Nilai target 1 dan 2 perlu dikonfirmasi dengan target namesnya, perlu melakukan proses untuk memanggil target names yang dimapping dengan hasil prediksi.\n",
    "+ Index 1 : versicolor\n",
    "+ Index 2 : virginica"
   ]
  },
  {
   "cell_type": "markdown",
   "metadata": {},
   "source": [
    "## Dump & Load Trained Model"
   ]
  },
  {
   "cell_type": "markdown",
   "metadata": {},
   "source": [
    "### Dumping Model Machine Learning menjadi file joblib"
   ]
  },
  {
   "cell_type": "code",
   "execution_count": 7,
   "metadata": {},
   "outputs": [
    {
     "data": {
      "text/plain": [
       "['iris_classifier_knn.joblib']"
      ]
     },
     "execution_count": 7,
     "metadata": {},
     "output_type": "execute_result"
    }
   ],
   "source": [
    "import joblib\n",
    "# perlu di import dahulu untuk menggunakannya\n",
    "\n",
    "joblib.dump(model, 'iris_classifier_knn.joblib')\n",
    "# untuk melakukan proses dumping / loading model machine learning"
   ]
  },
  {
   "cell_type": "markdown",
   "metadata": {},
   "source": [
    "+ joblib.dump membutuhkan 2 parameter yaitu trained model yang perlu di dump dan nama file joblib\n",
    "+ Hasil : file iris_classifier_knn.joblib"
   ]
  },
  {
   "cell_type": "markdown",
   "metadata": {},
   "source": [
    "### Loading Model Machine Learning dari file joblib"
   ]
  },
  {
   "cell_type": "code",
   "execution_count": 8,
   "metadata": {},
   "outputs": [],
   "source": [
    "production_model = joblib.load('iris_classifier_knn.joblib')\n",
    "# untuk memanggil file joblib yang diinginkan menggunakan joblib.load() dan diikuti dengan nama file joblib yang ingin di load"
   ]
  },
  {
   "cell_type": "markdown",
   "metadata": {},
   "source": [
    "+ Ketika sudah di load maka dihasilkan machine learning model\n",
    "+ Machine learning model ditampung dalam variable production_model\n",
    "+ production_model dapat digunakan untuk memprediksi data baru yang ditemui di production"
   ]
  }
 ],
 "metadata": {
  "kernelspec": {
   "display_name": "Python 3",
   "language": "python",
   "name": "python3"
  },
  "language_info": {
   "codemirror_mode": {
    "name": "ipython",
    "version": 3
   },
   "file_extension": ".py",
   "mimetype": "text/x-python",
   "name": "python",
   "nbconvert_exporter": "python",
   "pygments_lexer": "ipython3",
   "version": "3.8.5"
  }
 },
 "nbformat": 4,
 "nbformat_minor": 4
}
